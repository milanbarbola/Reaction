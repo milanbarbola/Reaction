{
 "cells": [
  {
   "cell_type": "markdown",
   "id": "121aa351",
   "metadata": {},
   "source": [
    "# Reakcióidő mérő játék"
   ]
  },
  {
   "cell_type": "markdown",
   "id": "c72f37b7",
   "metadata": {},
   "source": [
    "A mostani videós projektemben egy reakcióidő mérő játékot készítettem. A játék lényege, hogy az egyik kezünket ráteszük a középső foliára ami a ground és ezt a játék folyamán mindig lenyomva tartjuk a másik kezünkkel pedig rányomunk a bal felső sarokban lévő foliára mivel ezáltal tudjuk elinditani a játékot. Amikor hozzáérünk a bal felső foliához meg a középső foliához akkor saját magunkkal kiegészítjük az áramkört és ezáltal elindul a játék. A program elkezd 3-tól vissza felé számolni és utána random 1 és 4 másodperc között egy pötty bármikor felvillanhat a microbiten azt jelezve, hogy most kell hozzáérni a bal vagy jobb sarokban lévő fóliához. Ha túl kórán érünk hozzá akkor egy nagy X betű fog megjelenni jelezve, hogy hamarabb hoztuk létre az áramkört. Miután megjelent a pötty és mi hozzáértünk a fóliához utána a microbiten az is megfogjelenni, hogy mennyi idő telt el a pötty megjelenése és a fóliához érés között. Azért van bal és jobb oldalt is fólia mivel a játékot egyszerre ketten is lehet játszani és versenyezni, hogy kinek jobb a reflexe."
   ]
  },
  {
   "cell_type": "markdown",
   "id": "5aa75cb2",
   "metadata": {},
   "source": [
    "### A kód ami a játékhoz szükséges"
   ]
  },
  {
   "cell_type": "code",
   "execution_count": null,
   "id": "d12a0dfe",
   "metadata": {},
   "outputs": [],
   "source": [
    "running = False\n",
    "false_start = False\n",
    "start = 0\n",
    "end = 0\n",
    "\n",
    "def on_pin_pressed_p0():\n",
    "    global running, false_start, start\n",
    "    basic.show_number(3)\n",
    "    basic.show_number(2)\n",
    "    basic.show_number(1)\n",
    "    basic.clear_screen()\n",
    "    running = False\n",
    "    false_start = False\n",
    "    basic.pause(1000 + randint(0, 3000))\n",
    "    if not (false_start):\n",
    "        start = input.running_time()\n",
    "        running = True\n",
    "        led.stop_animation()\n",
    "        basic.clear_screen()\n",
    "        led.plot(randint(0, 4), randint(0, 4))\n",
    "input.on_pin_pressed(TouchPin.P0, on_pin_pressed_p0)\n",
    "\n",
    "def on_pin_pressed_p2():\n",
    "    global running, end, false_start\n",
    "    if running:\n",
    "        running = False\n",
    "        end = input.running_time()\n",
    "        basic.show_leds(\"\"\"\n",
    "            . . # . .\n",
    "            . . . # .\n",
    "            # # # # #\n",
    "            . . . # .\n",
    "            . . # . .\n",
    "            \"\"\")\n",
    "        basic.pause(1000)\n",
    "        basic.show_number(end - start)\n",
    "    else:\n",
    "        false_start = True\n",
    "        basic.show_leds(\"\"\"\n",
    "            . . . . .\n",
    "            . . # . #\n",
    "            . . . # .\n",
    "            . . # . #\n",
    "            . . . . .\n",
    "            \"\"\")\n",
    "input.on_pin_pressed(TouchPin.P2, on_pin_pressed_p2)\n",
    "\n",
    "def on_pin_pressed_p1():\n",
    "    global running, end, false_start\n",
    "    if running:\n",
    "        running = False\n",
    "        end = input.running_time()\n",
    "        basic.show_leds(\"\"\"\n",
    "            . . # . .\n",
    "            . # . . .\n",
    "            # # # # #\n",
    "            . # . . .\n",
    "            . . # . .\n",
    "            \"\"\")\n",
    "        basic.pause(1000)\n",
    "        basic.show_number(end - start)\n",
    "    else:\n",
    "        false_start = True\n",
    "        basic.show_leds(\"\"\"\n",
    "            . . . . .\n",
    "            # . # . .\n",
    "            . # . . .\n",
    "            # . # . .\n",
    "            . . . . .\n",
    "            \"\"\")\n",
    "input.on_pin_pressed(TouchPin.P1, on_pin_pressed_p1)"
   ]
  },
  {
   "cell_type": "code",
   "execution_count": null,
   "id": "818216cc",
   "metadata": {},
   "outputs": [],
   "source": [
    "from IPython.display import Image\n",
    "Image(filename='reakcio.jpg',width=1000, height=600) "
   ]
  },
  {
   "cell_type": "markdown",
   "id": "fc8d9b7c",
   "metadata": {},
   "source": [
    "### A videó megtekintéséhez ide kell kattintani [reakcióidő méró](https://youtu.be/qRbKeyrFr7g)"
   ]
  }
 ],
 "metadata": {
  "kernelspec": {
   "display_name": "Python 3",
   "language": "python",
   "name": "python3"
  },
  "language_info": {
   "codemirror_mode": {
    "name": "ipython",
    "version": 3
   },
   "file_extension": ".py",
   "mimetype": "text/x-python",
   "name": "python",
   "nbconvert_exporter": "python",
   "pygments_lexer": "ipython3",
   "version": "3.8.8"
  }
 },
 "nbformat": 4,
 "nbformat_minor": 5
}
